{
 "cells": [
  {
   "cell_type": "code",
   "execution_count": 1,
   "metadata": {
    "scrolled": true
   },
   "outputs": [
    {
     "name": "stdout",
     "output_type": "stream",
     "text": [
      "Requirement already satisfied: mediapipe in c:\\users\\user\\anaconda3\\lib\\site-packages (0.10.0)\n",
      "Requirement already satisfied: attrs>=19.1.0 in c:\\users\\user\\anaconda3\\lib\\site-packages (from mediapipe) (21.4.0)\n",
      "Requirement already satisfied: matplotlib in c:\\users\\user\\anaconda3\\lib\\site-packages (from mediapipe) (3.5.2)\n",
      "Requirement already satisfied: absl-py in c:\\users\\user\\anaconda3\\lib\\site-packages (from mediapipe) (1.4.0)\n",
      "Requirement already satisfied: opencv-contrib-python in c:\\users\\user\\anaconda3\\lib\\site-packages (from mediapipe) (4.7.0.72)\n",
      "Requirement already satisfied: flatbuffers>=2.0 in c:\\users\\user\\anaconda3\\lib\\site-packages (from mediapipe) (23.5.26)\n",
      "Requirement already satisfied: sounddevice>=0.4.4 in c:\\users\\user\\anaconda3\\lib\\site-packages (from mediapipe) (0.4.6)\n",
      "Requirement already satisfied: numpy in c:\\users\\user\\anaconda3\\lib\\site-packages (from mediapipe) (1.21.5)\n",
      "Requirement already satisfied: protobuf<4,>=3.11 in c:\\users\\user\\anaconda3\\lib\\site-packages (from mediapipe) (3.20.3)\n",
      "Requirement already satisfied: CFFI>=1.0 in c:\\users\\user\\anaconda3\\lib\\site-packages (from sounddevice>=0.4.4->mediapipe) (1.15.1)\n",
      "Requirement already satisfied: fonttools>=4.22.0 in c:\\users\\user\\anaconda3\\lib\\site-packages (from matplotlib->mediapipe) (4.25.0)\n",
      "Requirement already satisfied: kiwisolver>=1.0.1 in c:\\users\\user\\anaconda3\\lib\\site-packages (from matplotlib->mediapipe) (1.4.2)\n",
      "Requirement already satisfied: pyparsing>=2.2.1 in c:\\users\\user\\anaconda3\\lib\\site-packages (from matplotlib->mediapipe) (3.0.9)\n",
      "Requirement already satisfied: pillow>=6.2.0 in c:\\users\\user\\anaconda3\\lib\\site-packages (from matplotlib->mediapipe) (9.2.0)\n",
      "Requirement already satisfied: python-dateutil>=2.7 in c:\\users\\user\\anaconda3\\lib\\site-packages (from matplotlib->mediapipe) (2.8.2)\n",
      "Requirement already satisfied: cycler>=0.10 in c:\\users\\user\\anaconda3\\lib\\site-packages (from matplotlib->mediapipe) (0.11.0)\n",
      "Requirement already satisfied: packaging>=20.0 in c:\\users\\user\\anaconda3\\lib\\site-packages (from matplotlib->mediapipe) (21.3)\n",
      "Requirement already satisfied: pycparser in c:\\users\\user\\anaconda3\\lib\\site-packages (from CFFI>=1.0->sounddevice>=0.4.4->mediapipe) (2.21)\n",
      "Requirement already satisfied: typing-extensions in c:\\users\\user\\anaconda3\\lib\\site-packages (from kiwisolver>=1.0.1->matplotlib->mediapipe) (4.3.0)\n",
      "Requirement already satisfied: six>=1.5 in c:\\users\\user\\anaconda3\\lib\\site-packages (from python-dateutil>=2.7->matplotlib->mediapipe) (1.16.0)\n",
      "Note: you may need to restart the kernel to use updated packages.\n"
     ]
    }
   ],
   "source": [
    "pip install mediapipe"
   ]
  },
  {
   "cell_type": "code",
   "execution_count": 2,
   "metadata": {},
   "outputs": [
    {
     "name": "stdout",
     "output_type": "stream",
     "text": [
      "Requirement already satisfied: pymysql in c:\\users\\user\\anaconda3\\lib\\site-packages (1.0.3)\n",
      "Note: you may need to restart the kernel to use updated packages.\n"
     ]
    }
   ],
   "source": [
    "pip install pymysql"
   ]
  },
  {
   "cell_type": "code",
   "execution_count": 3,
   "metadata": {},
   "outputs": [
    {
     "ename": "ModuleNotFoundError",
     "evalue": "No module named 'mediapipe.python._framework_bindings'",
     "output_type": "error",
     "traceback": [
      "\u001b[1;31m---------------------------------------------------------------------------\u001b[0m",
      "\u001b[1;31mModuleNotFoundError\u001b[0m                       Traceback (most recent call last)",
      "\u001b[1;32m~\\AppData\\Local\\Temp\\ipykernel_7968\\319065901.py\u001b[0m in \u001b[0;36m<module>\u001b[1;34m\u001b[0m\n\u001b[1;32m----> 1\u001b[1;33m \u001b[1;32mimport\u001b[0m \u001b[0mmediapipe\u001b[0m \u001b[1;32mas\u001b[0m \u001b[0mmp\u001b[0m\u001b[1;33m\u001b[0m\u001b[1;33m\u001b[0m\u001b[0m\n\u001b[0m\u001b[0;32m      2\u001b[0m \u001b[1;32mfrom\u001b[0m \u001b[0mmediapipe\u001b[0m\u001b[1;33m.\u001b[0m\u001b[0mtasks\u001b[0m \u001b[1;32mimport\u001b[0m \u001b[0mpython\u001b[0m\u001b[1;33m\u001b[0m\u001b[1;33m\u001b[0m\u001b[0m\n\u001b[0;32m      3\u001b[0m \u001b[1;32mfrom\u001b[0m \u001b[0mmediapipe\u001b[0m\u001b[1;33m.\u001b[0m\u001b[0mtasks\u001b[0m\u001b[1;33m.\u001b[0m\u001b[0mpython\u001b[0m \u001b[1;32mimport\u001b[0m \u001b[0mvision\u001b[0m\u001b[1;33m\u001b[0m\u001b[1;33m\u001b[0m\u001b[0m\n",
      "\u001b[1;32mc:\\Users\\user\\anaconda3\\lib\\site-packages\\mediapipe\\__init__.py\u001b[0m in \u001b[0;36m<module>\u001b[1;34m\u001b[0m\n\u001b[0;32m     13\u001b[0m \u001b[1;31m# limitations under the License.\u001b[0m\u001b[1;33m\u001b[0m\u001b[1;33m\u001b[0m\u001b[1;33m\u001b[0m\u001b[0m\n\u001b[0;32m     14\u001b[0m \u001b[1;33m\u001b[0m\u001b[0m\n\u001b[1;32m---> 15\u001b[1;33m \u001b[1;32mfrom\u001b[0m \u001b[0mmediapipe\u001b[0m\u001b[1;33m.\u001b[0m\u001b[0mpython\u001b[0m \u001b[1;32mimport\u001b[0m \u001b[1;33m*\u001b[0m\u001b[1;33m\u001b[0m\u001b[1;33m\u001b[0m\u001b[0m\n\u001b[0m\u001b[0;32m     16\u001b[0m \u001b[1;32mimport\u001b[0m \u001b[0mmediapipe\u001b[0m\u001b[1;33m.\u001b[0m\u001b[0mpython\u001b[0m\u001b[1;33m.\u001b[0m\u001b[0msolutions\u001b[0m \u001b[1;32mas\u001b[0m \u001b[0msolutions\u001b[0m\u001b[1;33m\u001b[0m\u001b[1;33m\u001b[0m\u001b[0m\n\u001b[0;32m     17\u001b[0m \u001b[1;32mimport\u001b[0m \u001b[0mmediapipe\u001b[0m\u001b[1;33m.\u001b[0m\u001b[0mtasks\u001b[0m\u001b[1;33m.\u001b[0m\u001b[0mpython\u001b[0m \u001b[1;32mas\u001b[0m \u001b[0mtasks\u001b[0m\u001b[1;33m\u001b[0m\u001b[1;33m\u001b[0m\u001b[0m\n",
      "\u001b[1;32mc:\\Users\\user\\anaconda3\\lib\\site-packages\\mediapipe\\python\\__init__.py\u001b[0m in \u001b[0;36m<module>\u001b[1;34m\u001b[0m\n\u001b[0;32m     15\u001b[0m \u001b[1;34m\"\"\"MediaPipe Python API.\"\"\"\u001b[0m\u001b[1;33m\u001b[0m\u001b[1;33m\u001b[0m\u001b[0m\n\u001b[0;32m     16\u001b[0m \u001b[1;33m\u001b[0m\u001b[0m\n\u001b[1;32m---> 17\u001b[1;33m \u001b[1;32mfrom\u001b[0m \u001b[0mmediapipe\u001b[0m\u001b[1;33m.\u001b[0m\u001b[0mpython\u001b[0m\u001b[1;33m.\u001b[0m\u001b[0m_framework_bindings\u001b[0m \u001b[1;32mimport\u001b[0m \u001b[0mresource_util\u001b[0m\u001b[1;33m\u001b[0m\u001b[1;33m\u001b[0m\u001b[0m\n\u001b[0m\u001b[0;32m     18\u001b[0m \u001b[1;32mfrom\u001b[0m \u001b[0mmediapipe\u001b[0m\u001b[1;33m.\u001b[0m\u001b[0mpython\u001b[0m\u001b[1;33m.\u001b[0m\u001b[0m_framework_bindings\u001b[0m\u001b[1;33m.\u001b[0m\u001b[0mcalculator_graph\u001b[0m \u001b[1;32mimport\u001b[0m \u001b[0mCalculatorGraph\u001b[0m\u001b[1;33m\u001b[0m\u001b[1;33m\u001b[0m\u001b[0m\n\u001b[0;32m     19\u001b[0m \u001b[1;32mfrom\u001b[0m \u001b[0mmediapipe\u001b[0m\u001b[1;33m.\u001b[0m\u001b[0mpython\u001b[0m\u001b[1;33m.\u001b[0m\u001b[0m_framework_bindings\u001b[0m\u001b[1;33m.\u001b[0m\u001b[0mcalculator_graph\u001b[0m \u001b[1;32mimport\u001b[0m \u001b[0mGraphInputStreamAddMode\u001b[0m\u001b[1;33m\u001b[0m\u001b[1;33m\u001b[0m\u001b[0m\n",
      "\u001b[1;31mModuleNotFoundError\u001b[0m: No module named 'mediapipe.python._framework_bindings'"
     ]
    }
   ],
   "source": [
    "import mediapipe as mp\n",
    "from mediapipe.tasks import python\n",
    "from mediapipe.tasks.python import vision"
   ]
  },
  {
   "cell_type": "code",
   "execution_count": 60,
   "metadata": {},
   "outputs": [],
   "source": [
    "import os\n",
    "import cv2\n",
    "import numpy as np\n",
    "import matplotlib.pyplot as plt\n",
    "import math\n",
    "import pymysql\n",
    "conn = pymysql.connect(host='project-db-stu.smhrd.com',port=3307, user='campus_b_230519_3',password='smhrd3',db='campus_b_230519_3',charset='utf8')"
   ]
  },
  {
   "cell_type": "code",
   "execution_count": 61,
   "metadata": {},
   "outputs": [],
   "source": [
    "model_path = \"hair_segmenter.tflite\""
   ]
  },
  {
   "cell_type": "code",
   "execution_count": 62,
   "metadata": {},
   "outputs": [],
   "source": [
    "# Height and width that will be used by the model\n",
    "DESIRED_HEIGHT = 480\n",
    "DESIRED_WIDTH = 480\n",
    "def resize_and_show(image):\n",
    "    h, w = image.shape[:2]\n",
    "    if h < w:\n",
    "        img = cv2.resize(image, (DESIRED_WIDTH, math.floor(h/(w/DESIRED_WIDTH))))\n",
    "    else:\n",
    "        img = cv2.resize(image, (math.floor(w/(h/DESIRED_HEIGHT)), DESIRED_HEIGHT))\n",
    "    cv2.imshow('Image', img)\n",
    "    cv2.waitKey(0)\n",
    "    cv2.destroyAllWindows()"
   ]
  },
  {
   "cell_type": "code",
   "execution_count": 63,
   "metadata": {},
   "outputs": [
    {
     "name": "stdout",
     "output_type": "stream",
     "text": [
      "after_a000_bb_6\n"
     ]
    }
   ],
   "source": [
    "# MySql에 저장된 애프터 사진 파일명 불러오기\n",
    "import pymysql\n",
    "\n",
    "member_id = 'bb'\n",
    "salon_id = 'a000'\n",
    "afterImg=''\n",
    "\n",
    "sql = \"select pic_path from my_history where member_id = %s and salon_id = %s\"\n",
    "\n",
    "with conn:\n",
    "    with conn.cursor() as cur:\n",
    "        cur.execute(sql,(member_id,salon_id))\n",
    "        result = cur.fetchall()\n",
    "        afterImg = result[-1][0]\n",
    "        print(afterImg)"
   ]
  },
  {
   "cell_type": "code",
   "execution_count": 64,
   "metadata": {},
   "outputs": [
    {
     "name": "stdout",
     "output_type": "stream",
     "text": [
      "C:/Users/user/git/final_project_t3/SmartMirror/src/main/resources/static/afterImg\\after_a000_bb_6.jpg\n"
     ]
    }
   ],
   "source": [
    "# 이미지파일 경로\n",
    "\n",
    "IMAGE_FOLDER = 'C:/Users/user/git/final_project_t3/SmartMirror/src/main/resources/static/afterImg'\n",
    "IMAGE_FILENAMES = [afterImg]\n",
    "\n",
    "for name in IMAGE_FILENAMES:\n",
    "    image_path = os.path.join(IMAGE_FOLDER, name)+'.jpg'\n",
    "    print(image_path)"
   ]
  },
  {
   "cell_type": "code",
   "execution_count": 65,
   "metadata": {},
   "outputs": [
    {
     "name": "stdout",
     "output_type": "stream",
     "text": [
      "after_a000_bb_6\n"
     ]
    }
   ],
   "source": [
    "# Performs resizing and showing the image\n",
    "image_path=image_path\n",
    "images = {name: cv2.imread(image_path) for name in IMAGE_FILENAMES}\n",
    "images.items()\n",
    "# Preview the image(s)\n",
    "for name, image in images.items():\n",
    "    print(name)\n",
    "    resize_and_show(image)"
   ]
  },
  {
   "cell_type": "code",
   "execution_count": 66,
   "metadata": {},
   "outputs": [],
   "source": [
    "BG_COLOR = (192, 192, 192) # gray\n",
    "MASK_COLOR = (255, 255, 255) # white\n",
    "\n",
    "\n",
    "# options\n",
    "base_options = python.BaseOptions(model_asset_path=model_path)\n",
    "options = vision.ImageSegmenterOptions(base_options=base_options,\n",
    "                                       output_category_mask=True)\n",
    "\n",
    "# 세그먼트 샘플링\n",
    "# segmenter 생성\n",
    "with vision.ImageSegmenter.create_from_options(options) as segmenter:\n",
    "\n",
    "  # 이미지폴더를 순회하며 이미지파일을 읽어옴\n",
    "    for name in IMAGE_FILENAMES:\n",
    "        image_file_path = os.path.join(IMAGE_FOLDER, name)+'.jpg'\n",
    "\n",
    "      # Create the MediaPipe image file that will be segmented\n",
    "        image = mp.Image.create_from_file(image_file_path)\n",
    "\n",
    "      # Retrieve the masks for the segmented image\n",
    "        segmentation_result = segmenter.segment(image)\n",
    "        category_mask = segmentation_result.category_mask\n",
    "      \n",
    "      # Generate solid color images for showing the output segmentation mask.\n",
    "        image_data = image.numpy_view()\n",
    "        fg_image = np.zeros(image_data.shape, dtype=np.uint8)\n",
    "        fg_image[:] = MASK_COLOR\n",
    "        bg_image = np.zeros(image_data.shape, dtype=np.uint8)\n",
    "        bg_image[:] = BG_COLOR\n",
    "\n",
    "        condition = np.stack((category_mask.numpy_view(),) * 3, axis=-1) > 0.2\n",
    "        output_image = np.where(condition, fg_image, bg_image)\n",
    "\n",
    "        resize_and_show(output_image)"
   ]
  },
  {
   "cell_type": "code",
   "execution_count": 67,
   "metadata": {},
   "outputs": [],
   "source": [
    "# 헤어 세그먼트(머리카락만 추출)\n",
    "cnt=10\n",
    "\n",
    "with vision.ImageSegmenter.create_from_options(options) as segmenter:\n",
    "       \n",
    "  # Loop through demo image(s)\n",
    "    for name in IMAGE_FILENAMES:\n",
    "        image_file_path = os.path.join(IMAGE_FOLDER, name)\n",
    "\n",
    "      # Create the MediaPipe image file that will be segmented\n",
    "        image = mp.Image.create_from_file(image_file_path+'.jpg')\n",
    "\n",
    "      # Retrieve the masks for the segmented image\n",
    "        segmentation_result = segmenter.segment(image)\n",
    "        category_mask = segmentation_result.category_mask\n",
    "      \n",
    "        image_data = cv2.cvtColor(image.numpy_view(), cv2.COLOR_BGR2RGB)\n",
    "      # category_mask 를 넘파이 배열로 변환\n",
    "        category_mask = category_mask.numpy_view()\n",
    "      \n",
    "      # Apply hair mask to the original image\n",
    "        output_image = cv2.bitwise_and(image_data, image_data, mask=category_mask)\n",
    "      \n",
    "      # Create a mask for the black background\n",
    "        black_bg_mask = np.all(output_image == [0, 0, 0], axis=2)\n",
    "\n",
    "      # Create an alpha channel with the black background mask\n",
    "        alpha_channel = np.where(black_bg_mask, 0, 255).astype(np.uint8)\n",
    "\n",
    "      # Add the alpha channel to the hair image\n",
    "        hair_image_with_alpha = cv2.cvtColor(output_image, cv2.COLOR_BGR2BGRA)\n",
    "        hair_image_with_alpha[:, :, 3] = alpha_channel\n",
    "\n",
    "      # 이미지 저장\n",
    "        cnt = cnt+1\n",
    "        num = str(cnt)\n",
    "        output_path = 'C:/Users/user/git/final_project_t3/SmartMirror/src/main/resources/static/hairStyle/hairStyle_'+salon_id+'_'+num+'.jpg'\n",
    "        cv2.imwrite(output_path, hair_image_with_alpha)\n",
    "    \n",
    "      # Show the image with hair segmentation\n",
    "        resize_and_show(hair_image_with_alpha)"
   ]
  },
  {
   "cell_type": "code",
   "execution_count": 10,
   "metadata": {},
   "outputs": [],
   "source": [
    "hair_image_path = 'image_hair/output.png'\n",
    "hair_image = cv2.imread(hair_image_path)\n",
    "\n",
    "# Create a mask for the black background\n",
    "black_bg_mask = np.all(hair_image == [0, 0, 0], axis=2)\n",
    "\n",
    "# Create an alpha channel with the black background mask\n",
    "alpha_channel = np.where(black_bg_mask, 0, 255).astype(np.uint8)\n",
    "\n",
    "# Add the alpha channel to the hair image\n",
    "hair_image_with_alpha = cv2.cvtColor(hair_image, cv2.COLOR_BGR2BGRA)\n",
    "hair_image_with_alpha[:, :, 3] = alpha_channel\n",
    "\n",
    "# Save the hair image with transparent background\n",
    "output_path = 'image_hair/output_with_alpha.png'\n",
    "cv2.imwrite(output_path, hair_image_with_alpha)\n",
    "\n",
    "# Show the output image with transparent background\n",
    "cv2.imshow('Output Image', hair_image_with_alpha)\n",
    "cv2.waitKey(0)\n",
    "cv2.destroyAllWindows()"
   ]
  },
  {
   "cell_type": "code",
   "execution_count": 11,
   "metadata": {},
   "outputs": [],
   "source": [
    "# 머리카락만 남기고 배경을 흐리게 처리(블러처리)\n",
    "\n",
    "with python.vision.ImageSegmenter.create_from_options(options) as segmenter:\n",
    "\n",
    "  # Loop through available image(s)\n",
    "  for image_file_name in IMAGE_FILENAMES:\n",
    "    image_file_path = os.path.join(IMAGE_FOLDER, name)\n",
    "\n",
    "    # Create the MediaPipe image file that will be segmented\n",
    "    image = mp.Image.create_from_file(image_file_path)\n",
    "\n",
    "    # Retrieve the category masks for the image\n",
    "    segmentation_result = segmenter.segment(image)\n",
    "    category_mask = segmentation_result.category_mask\n",
    "\n",
    "    # BGR -> RGB\n",
    "    image_data = cv2.cvtColor(image.numpy_view(), cv2.COLOR_BGR2RGB)\n",
    "\n",
    "    # 블러처리\n",
    "    blurred_image = cv2.GaussianBlur(image_data, (55,55), 0)\n",
    "    condition = np.stack((category_mask.numpy_view(),) * 3, axis=-1) > 0.1\n",
    "    output_image = np.where(condition, image_data, blurred_image)\n",
    "\n",
    "    resize_and_show(output_image)\n",
    "    \n",
    "    # 처리된 이미지 저장\n",
    "    cv2.imwrite('image_blur/output.jpg', output_image)\n",
    "    "
   ]
  },
  {
   "cell_type": "code",
   "execution_count": null,
   "metadata": {},
   "outputs": [],
   "source": []
  },
  {
   "cell_type": "code",
   "execution_count": null,
   "metadata": {},
   "outputs": [],
   "source": []
  },
  {
   "cell_type": "code",
   "execution_count": null,
   "metadata": {},
   "outputs": [],
   "source": []
  },
  {
   "cell_type": "code",
   "execution_count": null,
   "metadata": {},
   "outputs": [],
   "source": []
  }
 ],
 "metadata": {
  "kernelspec": {
   "display_name": "Python 3 (ipykernel)",
   "language": "python",
   "name": "python3"
  },
  "language_info": {
   "codemirror_mode": {
    "name": "ipython",
    "version": 3
   },
   "file_extension": ".py",
   "mimetype": "text/x-python",
   "name": "python",
   "nbconvert_exporter": "python",
   "pygments_lexer": "ipython3",
   "version": "3.7.13"
  }
 },
 "nbformat": 4,
 "nbformat_minor": 2
}
