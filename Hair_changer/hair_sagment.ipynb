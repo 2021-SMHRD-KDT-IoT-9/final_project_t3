{
 "cells": [
  {
   "cell_type": "code",
   "execution_count": 1,
   "metadata": {},
   "outputs": [],
   "source": [
    "import mediapipe as mp\n",
    "from mediapipe.tasks import python\n",
    "from mediapipe.tasks.python import vision"
   ]
  },
  {
   "cell_type": "code",
   "execution_count": 2,
   "metadata": {},
   "outputs": [],
   "source": [
    "import os\n",
    "import cv2\n",
    "import numpy as np\n",
    "import matplotlib.pyplot as plt\n",
    "import math"
   ]
  },
  {
   "cell_type": "code",
   "execution_count": 3,
   "metadata": {},
   "outputs": [],
   "source": [
    "model_path = \"/Hair_changer/hair_segmenter.tflite\""
   ]
  },
  {
   "cell_type": "code",
   "execution_count": 4,
   "metadata": {},
   "outputs": [],
   "source": [
    "# Height and width that will be used by the model\n",
    "DESIRED_HEIGHT = 480\n",
    "DESIRED_WIDTH = 480\n",
    "def resize_and_show(image):\n",
    "    h, w = image.shape[:2]\n",
    "    if h < w:\n",
    "        img = cv2.resize(image, (DESIRED_WIDTH, math.floor(h/(w/DESIRED_WIDTH))))\n",
    "    else:\n",
    "        img = cv2.resize(image, (math.floor(w/(h/DESIRED_HEIGHT)), DESIRED_HEIGHT))\n",
    "    cv2.imshow('Image', img)\n",
    "    cv2.waitKey(0)\n",
    "    cv2.destroyAllWindows()"
   ]
  },
  {
   "cell_type": "code",
   "execution_count": 5,
   "metadata": {},
   "outputs": [],
   "source": [
    "# 이미지파일 경로\n",
    "\n",
    "IMAGE_FOLDER = 'image_input'\n",
    "IMAGE_FILENAMES = ['img3.jpg']\n",
    "\n",
    "for name in IMAGE_FILENAMES:\n",
    "    image_path = os.path.join(IMAGE_FOLDER, name)"
   ]
  },
  {
   "cell_type": "code",
   "execution_count": 6,
   "metadata": {},
   "outputs": [
    {
     "name": "stdout",
     "output_type": "stream",
     "text": [
      "img3.jpg\n"
     ]
    }
   ],
   "source": [
    "# Performs resizing and showing the image\n",
    "images = {name: cv2.imread(os.path.join(IMAGE_FOLDER, name)) for name in IMAGE_FILENAMES}\n",
    "images.items()\n",
    "# Preview the image(s)\n",
    "for name, image in images.items():\n",
    "    print(name)\n",
    "    resize_and_show(image) "
   ]
  },
  {
   "cell_type": "code",
   "execution_count": 7,
   "metadata": {},
   "outputs": [],
   "source": [
    "BG_COLOR = (192, 192, 192) # gray\n",
    "MASK_COLOR = (255, 255, 255) # white\n",
    "\n",
    "\n",
    "# options\n",
    "base_options = python.BaseOptions(model_asset_path=model_path)\n",
    "options = vision.ImageSegmenterOptions(base_options=base_options,\n",
    "                                       output_category_mask=True)\n",
    "\n",
    "# 세그먼트 샘플링\n",
    "# segmenter 생성\n",
    "with vision.ImageSegmenter.create_from_options(options) as segmenter:\n",
    "\n",
    "  # 이미지폴더를 순회하며 이미지파일을 읽어옴\n",
    "  for name in IMAGE_FILENAMES:\n",
    "      image_file_path = os.path.join(IMAGE_FOLDER, name)\n",
    "\n",
    "      # Create the MediaPipe image file that will be segmented\n",
    "      image = mp.Image.create_from_file(image_file_path)\n",
    "\n",
    "      # Retrieve the masks for the segmented image\n",
    "      segmentation_result = segmenter.segment(image)\n",
    "      category_mask = segmentation_result.category_mask\n",
    "      \n",
    "      # Generate solid color images for showing the output segmentation mask.\n",
    "      image_data = image.numpy_view()\n",
    "      fg_image = np.zeros(image_data.shape, dtype=np.uint8)\n",
    "      fg_image[:] = MASK_COLOR\n",
    "      bg_image = np.zeros(image_data.shape, dtype=np.uint8)\n",
    "      bg_image[:] = BG_COLOR\n",
    "\n",
    "      condition = np.stack((category_mask.numpy_view(),) * 3, axis=-1) > 0.2\n",
    "      output_image = np.where(condition, fg_image, bg_image)\n",
    "\n",
    "      resize_and_show(output_image)"
   ]
  },
  {
   "cell_type": "code",
   "execution_count": 95,
   "metadata": {},
   "outputs": [],
   "source": [
    "# 헤어 세그먼트(머리카락만 추출)\n",
    "\n",
    "with vision.ImageSegmenter.create_from_options(options) as segmenter:\n",
    "\n",
    "  # Loop through demo image(s)\n",
    "  for name in IMAGE_FILENAMES:\n",
    "      image_file_path = os.path.join(IMAGE_FOLDER, name)\n",
    "\n",
    "      # Create the MediaPipe image file that will be segmented\n",
    "      image = mp.Image.create_from_file(image_file_path)\n",
    "\n",
    "      # Retrieve the masks for the segmented image\n",
    "      segmentation_result = segmenter.segment(image)\n",
    "      category_mask = segmentation_result.category_mask\n",
    "      \n",
    "      image_data = cv2.cvtColor(image.numpy_view(), cv2.COLOR_BGR2RGB)\n",
    "      # category_mask 를 넘파이 배열로 변환\n",
    "      category_mask = category_mask.numpy_view()\n",
    "      \n",
    "      # Apply hair mask to the original image\n",
    "      output_image = cv2.bitwise_and(image_data, image_data, mask=category_mask)\n",
    "      \n",
    "      # Create a mask for the black background\n",
    "      black_bg_mask = np.all(output_image == [0, 0, 0], axis=2)\n",
    "\n",
    "      # Create an alpha channel with the black background mask\n",
    "      alpha_channel = np.where(black_bg_mask, 0, 255).astype(np.uint8)\n",
    "\n",
    "      # Add the alpha channel to the hair image\n",
    "      hair_image_with_alpha = cv2.cvtColor(output_image, cv2.COLOR_BGR2BGRA)\n",
    "      hair_image_with_alpha[:, :, 3] = alpha_channel\n",
    "\n",
    "      # 이미지 저장\n",
    "      output_path = 'image_hair/output.png'\n",
    "      cv2.imwrite(output_path, hair_image_with_alpha)\n",
    "      # Show the image with hair segmentation\n",
    "      resize_and_show(hair_image_with_alpha)\n",
    "\n"
   ]
  },
  {
   "cell_type": "code",
   "execution_count": 93,
   "metadata": {},
   "outputs": [],
   "source": [
    "\n",
    "hair_image_path = 'image_hair/output.jpg'\n",
    "hair_image = cv2.imread(hair_image_path)\n",
    "\n",
    "# Create a mask for the black background\n",
    "black_bg_mask = np.all(hair_image == [0, 0, 0], axis=2)\n",
    "\n",
    "# Create an alpha channel with the black background mask\n",
    "alpha_channel = np.where(black_bg_mask, 0, 255).astype(np.uint8)\n",
    "\n",
    "# Add the alpha channel to the hair image\n",
    "hair_image_with_alpha = cv2.cvtColor(hair_image, cv2.COLOR_BGR2BGRA)\n",
    "hair_image_with_alpha[:, :, 3] = alpha_channel\n",
    "\n",
    "# Save the hair image with transparent background\n",
    "output_path = 'image_hair/output_with_alpha.png'\n",
    "cv2.imwrite(output_path, hair_image_with_alpha)\n",
    "\n",
    "# Show the output image with transparent background\n",
    "cv2.imshow('Output Image', hair_image_with_alpha)\n",
    "cv2.waitKey(0)\n",
    "cv2.destroyAllWindows()"
   ]
  },
  {
   "cell_type": "code",
   "execution_count": 90,
   "metadata": {},
   "outputs": [],
   "source": [
    "# 머리카락만 남기고 배경을 흐리게 처리(블러처리)\n",
    "\n",
    "with python.vision.ImageSegmenter.create_from_options(options) as segmenter:\n",
    "\n",
    "  # Loop through available image(s)\n",
    "  for image_file_name in IMAGE_FILENAMES:\n",
    "    image_file_path = os.path.join(IMAGE_FOLDER, name)\n",
    "\n",
    "    # Create the MediaPipe image file that will be segmented\n",
    "    image = mp.Image.create_from_file(image_file_path)\n",
    "\n",
    "    # Retrieve the category masks for the image\n",
    "    segmentation_result = segmenter.segment(image)\n",
    "    category_mask = segmentation_result.category_mask\n",
    "\n",
    "    # BGR -> RGB\n",
    "    image_data = cv2.cvtColor(image.numpy_view(), cv2.COLOR_BGR2RGB)\n",
    "\n",
    "    # 블러처리\n",
    "    blurred_image = cv2.GaussianBlur(image_data, (55,55), 0)\n",
    "    condition = np.stack((category_mask.numpy_view(),) * 3, axis=-1) > 0.1\n",
    "    output_image = np.where(condition, image_data, blurred_image)\n",
    "\n",
    "    resize_and_show(output_image)\n",
    "    \n",
    "    # 처리된 이미지 저장\n",
    "    cv2.imwrite('image_blur/output.jpg', output_image)\n",
    "    "
   ]
  }
 ],
 "metadata": {
  "kernelspec": {
   "display_name": "Python 3",
   "language": "python",
   "name": "python3"
  },
  "language_info": {
   "codemirror_mode": {
    "name": "ipython",
    "version": 3
   },
   "file_extension": ".py",
   "mimetype": "text/x-python",
   "name": "python",
   "nbconvert_exporter": "python",
   "pygments_lexer": "ipython3",
   "version": "3.10.11"
  },
  "orig_nbformat": 4
 },
 "nbformat": 4,
 "nbformat_minor": 2
}
